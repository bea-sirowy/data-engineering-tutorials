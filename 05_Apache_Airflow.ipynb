{
 "cells": [
  {
   "cell_type": "markdown",
   "metadata": {},
   "source": [
    "Beata Sirowy\n",
    "# Building data pipelines using Apache Airflow\n",
    "Based on the IBM Data Engineering Professional Certificate, ETL and Data Pipelines with Shell, Airflow and Kafka <br> Images' copyright: IBM Skills Network"
   ]
  }
 ],
 "metadata": {
  "language_info": {
   "name": "python"
  }
 },
 "nbformat": 4,
 "nbformat_minor": 2
}
