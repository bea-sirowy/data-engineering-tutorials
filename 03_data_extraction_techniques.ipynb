{
 "cells": [
  {
   "cell_type": "markdown",
   "metadata": {},
   "source": [
    "Beata Sirowy\n",
    "# Data extraction techniques\n",
    "_Based on the IBM Data Engineering Professional Certificate, ETL and Data Pipelines with Shell, Airflow and Kafka <br> Images' copyright: IBM Skills Network.\n"
   ]
  },
  {
   "cell_type": "markdown",
   "metadata": {},
   "source": [
    "## Types of data sources\n",
    "### Raw data sources"
   ]
  },
  {
   "cell_type": "markdown",
   "metadata": {},
   "source": [
    "- Archived text and images from paper documents and PDFs.\n",
    "- Web pages, including text, tables, images, and links.\n",
    "- Analog audio and video,\n",
    "which can be recorded on media such as magnetic tapes,\n",
    "or streaming in real time.\n",
    "- Survey data, statistical, and economic data.\n",
    "- Transactional data from business.\n",
    "- Event-based data such as social media streams, weather data from weather station networks, sensor data.\n",
    "- Medical records, such as\n",
    "prescription history, medical treatments,\n",
    "and medical images, personal genetic data\n",
    "encoded in DNA and RNA samples. "
   ]
  }
 ],
 "metadata": {
  "language_info": {
   "name": "python"
  }
 },
 "nbformat": 4,
 "nbformat_minor": 2
}
