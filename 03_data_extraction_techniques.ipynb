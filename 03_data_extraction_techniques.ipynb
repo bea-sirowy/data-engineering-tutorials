{
 "cells": [
  {
   "cell_type": "markdown",
   "metadata": {},
   "source": [
    "eata Sirowy\n",
    "# Data extraction techniques\n",
    "_Based on the IBM Data Engineering Professional Certificate, ETL and Data Pipelines with Shell, Airflow and Kafka_ Images' copyright: IBM Skills Network.\n"
   ]
  }
 ],
 "metadata": {
  "language_info": {
   "name": "python"
  }
 },
 "nbformat": 4,
 "nbformat_minor": 2
}
