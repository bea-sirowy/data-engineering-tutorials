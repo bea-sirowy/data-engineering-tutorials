{
 "cells": [
  {
   "cell_type": "markdown",
   "metadata": {},
   "source": [
    "Beata Sirowy\n",
    "# Building a DAG using Airflow (a demo)\n",
    "Based on the IBM Data Engineering Professional Certificate, _ETL and Data Pipelines with Shell, Airflow and Kafka_  and Apache Airflow documentation(airflow.apache.org) <br> Images' copyright: IBM Skills Network and airflow.apache.org"
   ]
  },
  {
   "cell_type": "markdown",
   "metadata": {},
   "source": [
    "In this demo we create a simple Airflow pipeline - a Python script that defines an Airflow direct acyclic graph (DAG) object in the following steps:\n",
    "- listing the key components of a DAG definition file,\n",
    "- creating tasks by instantiating operators in our DAG definition file,\n",
    "- setting up dependencies amongst tasks. "
   ]
  }
 ],
 "metadata": {
  "language_info": {
   "name": "python"
  }
 },
 "nbformat": 4,
 "nbformat_minor": 2
}
